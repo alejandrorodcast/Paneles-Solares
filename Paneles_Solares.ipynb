{
 "cells": [
  {
   "cell_type": "code",
   "execution_count": 52,
   "id": "4fe3e744-9650-4645-b249-f50ad074c519",
   "metadata": {},
   "outputs": [
    {
     "name": "stdin",
     "output_type": "stream",
     "text": [
      "Ingrese la medida en metros del ancho de la superficie disponible:  455\n",
      "Ingrese la medida en metros del largo de la superficie disponible:  10\n",
      "Ingrese el consumo promedio de energía mensual del hogar en kWh:  1452\n",
      "Ingrese el porcentaje de eficiencia de los paneles solares que quiere comprar. (Debe ser un valor entre 0 y 1, por ejemplo, 0.5 corresponde al 50%):  2\n"
     ]
    },
    {
     "name": "stdout",
     "output_type": "stream",
     "text": [
      "Valor rechazado. Intente de nuevo. El valor debe ser entre 0 y 1.\n"
     ]
    }
   ],
   "source": [
    "# Solicitar al usuario la medida en metros de los dos lados que delimitan la superficie disponible para los paneles.\n",
    "ancho = float(input(\"Ingrese la medida en metros del ancho de la superficie disponible: \"))\n",
    "largo = float(input(\"Ingrese la medida en metros del largo de la superficie disponible: \"))\n",
    "\n",
    "# Solicita al usuario el consumo promedio de energía mensual del hogar en kWh.\n",
    "consumo_mensual = float(input(\"Ingrese el consumo promedio de energía mensual del hogar en kWh: \"))\n",
    "\n",
    "# Solicitar al usuario el porcentaje de eficiencia de los paneles solares que quiere comprar.\n",
    "# Debe ser un valor entre 0 y 1. Por ejemplo: 0.5 corresponde al 50%.\n",
    "# De acuerdo con ASOLMEX (2021), México cuenta una irradiación solar media de 6.36 kWh/m2 por día.\n",
    "try:\n",
    "    porcentaje_eficiencia = float(input(\"Ingrese el porcentaje de eficiencia de los paneles solares que quiere comprar. (Debe ser un valor entre 0 y 1, por ejemplo, 0.5 corresponde al 50%): \"))\n",
    "    if 0 <= porcentaje_eficiencia <= 1:\n",
    "        print(\"Valor aceptado\")\n",
    "    else:\n",
    "        print(\"Valor rechazado. Intente de nuevo. El valor debe ser entre 0 y 1.\")\n",
    "except ValueError:\n",
    "    print(\"Error: Ingrese un valor numérico válido.\")\n",
    "\n",
    "IRRADIACION_SOLAR= 6.36\n",
    " \n",
    "# Calcular el área de la superficie disponible multiplicando sus lados\n",
    "area_superficie = ancho * largo\n",
    "\n",
    "# Calcular la producción energética mensual si se instalan los paneles solares en la superficie.\n",
    "# Considera que el mes tiene 30 días.\n",
    "dias_mes = 30\n",
    "produccion_mes = area_superficie * IRRADIACION_SOLAR * dias_mes * porcentaje_eficiencia\n",
    "\n",
    "# Determina la viabilidad de instalar los paneles.\n",
    "# Para que sea conveniente instalarlos la producción energética por mes debe ser igual o mayor 120% del consumo mensual del cliente.\n",
    "viabilidad = produccion_mes >= 1.2 * consumo_mensual"
   ]
  },
  {
   "cell_type": "code",
   "execution_count": 64,
   "id": "facf717d-b1e3-43b4-9288-df4134724b3d",
   "metadata": {},
   "outputs": [
    {
     "name": "stdout",
     "output_type": "stream",
     "text": [
      "\tREPORTE DE LOS RESULTADOS: \n",
      "\n",
      "El área disponible para instalar los paneles solares es de: 4550.00 metros cuadrados.\n",
      "El consumo promedio mensual de energía del hogar es de: 1452.00 kWh.\n",
      "El porcentaje de eficiencia de los paneles es de: 2.00\n",
      "La constante de irradiación media considerada es de: 6.36 kWh/m2 por día.\n",
      "La producción energética estimada por mes es de: 1736280.00 kWh.\n",
      "La instalación de los paneles solares: es viable.\n"
     ]
    }
   ],
   "source": [
    "# Se imprime un reporte de los resultados:\n",
    "print(\"\\tREPORTE DE LOS RESULTADOS: \")\n",
    "print()\n",
    "print(f\"El área disponible para instalar los paneles solares es de: {area_superficie:.2f} metros cuadrados.\")\n",
    "print(f\"El consumo promedio mensual de energía del hogar es de: {consumo_mensual:.2f} kWh.\")\n",
    "print(f\"El porcentaje de eficiencia de los paneles es de: {porcentaje_eficiencia:.2f}\")\n",
    "print(f\"La constante de irradiación media considerada es de: {IRRADIACION_SOLAR} kWh/m2 por día.\")\n",
    "print(f\"La producción energética estimada por mes es de: {produccion_mes:.2f} kWh.\")\n",
    "print(f\"La instalación de los paneles solares: {'es viable' if viabilidad else 'no es viable'}.\")\n"
   ]
  },
  {
   "cell_type": "code",
   "execution_count": null,
   "id": "0892b153-a1b4-42e4-bcfa-db0066ca2a24",
   "metadata": {},
   "outputs": [],
   "source": []
  }
 ],
 "metadata": {
  "kernelspec": {
   "display_name": "Python 3 (ipykernel)",
   "language": "python",
   "name": "python3"
  },
  "language_info": {
   "codemirror_mode": {
    "name": "ipython",
    "version": 3
   },
   "file_extension": ".py",
   "mimetype": "text/x-python",
   "name": "python",
   "nbconvert_exporter": "python",
   "pygments_lexer": "ipython3",
   "version": "3.13.2"
  }
 },
 "nbformat": 4,
 "nbformat_minor": 5
}
